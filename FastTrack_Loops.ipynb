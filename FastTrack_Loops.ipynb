{
  "nbformat": 4,
  "nbformat_minor": 0,
  "metadata": {
    "colab": {
      "provenance": [],
      "toc_visible": true,
      "authorship_tag": "ABX9TyNCKDW/l9Zvd8ocJN2hakUI",
      "include_colab_link": true
    },
    "kernelspec": {
      "name": "python3",
      "display_name": "Python 3"
    },
    "language_info": {
      "name": "python"
    }
  },
  "cells": [
    {
      "cell_type": "markdown",
      "metadata": {
        "id": "view-in-github",
        "colab_type": "text"
      },
      "source": [
        "<a href=\"https://colab.research.google.com/github/SanjaySArkasali/FastTrack-Learning/blob/main/FastTrack_Loops.ipynb\" target=\"_parent\"><img src=\"https://colab.research.google.com/assets/colab-badge.svg\" alt=\"Open In Colab\"/></a>"
      ]
    },
    {
      "cell_type": "markdown",
      "source": [
        "# *enumerate() Function to get index and item.(Without enumerate it will give error)*"
      ],
      "metadata": {
        "id": "PBnUJhDa0818"
      }
    },
    {
      "cell_type": "code",
      "source": [
        "names = [\"sara\",\"Mehara\", \"somu\", \"Mono\"]\n",
        "for index, name in enumerate(names):\n",
        "  print(f\"{index},{name}\")"
      ],
      "metadata": {
        "colab": {
          "base_uri": "https://localhost:8080/"
        },
        "id": "zIWjSQI-UNds",
        "outputId": "571d7642-5b74-4ee0-cde8-fc6244e97fc6"
      },
      "execution_count": null,
      "outputs": [
        {
          "output_type": "stream",
          "name": "stdout",
          "text": [
            "0,sara\n",
            "1,Mehara\n",
            "2,somu\n",
            "3,Mono\n"
          ]
        }
      ]
    },
    {
      "cell_type": "markdown",
      "source": [
        "## *zip() Function to iterate through multiple lists*"
      ],
      "metadata": {
        "id": "v3JLDiE31htJ"
      }
    },
    {
      "cell_type": "code",
      "source": [
        "fruits = [\"apple\", \"orange\", \"green apple\"]\n",
        "random_num = [1, 2, 3]\n",
        "\n",
        "for fruit, random in zip(fruits,random_num):\n",
        "  print(f\"randomnum:{random} fruits:{fruit}\")\n"
      ],
      "metadata": {
        "colab": {
          "base_uri": "https://localhost:8080/",
          "height": 0
        },
        "id": "tWFmsMjki2c2",
        "outputId": "95d3aae8-963c-4338-99f8-c5376a4cd4d8"
      },
      "execution_count": 1,
      "outputs": [
        {
          "output_type": "stream",
          "name": "stdout",
          "text": [
            "randomnum:1 fruits:apple\n",
            "randomnum:2 fruits:orange\n",
            "randomnum:3 fruits:green apple\n"
          ]
        }
      ]
    },
    {
      "cell_type": "markdown",
      "source": [
        "## *for Loop with a Range and Step*"
      ],
      "metadata": {
        "id": "Z2xPuDKOjno0"
      }
    },
    {
      "cell_type": "code",
      "source": [
        "for i in range(0,10,2):\n",
        "  print(i)"
      ],
      "metadata": {
        "colab": {
          "base_uri": "https://localhost:8080/",
          "height": 0
        },
        "id": "ZclTF-RbjlR2",
        "outputId": "a6b6768e-2d73-44da-8416-b1c79f969df0"
      },
      "execution_count": 6,
      "outputs": [
        {
          "output_type": "stream",
          "name": "stdout",
          "text": [
            "0\n",
            "2\n",
            "4\n",
            "6\n",
            "8\n"
          ]
        }
      ]
    },
    {
      "cell_type": "markdown",
      "source": [
        "##*List* *Comprehension* *must use [ ]*"
      ],
      "metadata": {
        "id": "rPSECyYclqxS"
      }
    },
    {
      "cell_type": "code",
      "source": [
        "random_2 = [1,2,4,5,7,3,8]\n",
        "test_1 = [x**2 for x in range(0,11,2)]\n",
        "test_1"
      ],
      "metadata": {
        "colab": {
          "base_uri": "https://localhost:8080/"
        },
        "id": "4hExOYlplpGz",
        "outputId": "a2fd9f55-b0cc-46f7-9d55-25ef93b39ba6"
      },
      "execution_count": 17,
      "outputs": [
        {
          "output_type": "execute_result",
          "data": {
            "text/plain": [
              "[0, 4, 16, 36, 64, 100]"
            ]
          },
          "metadata": {},
          "execution_count": 17
        }
      ]
    }
  ]
}