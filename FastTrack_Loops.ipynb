{
  "nbformat": 4,
  "nbformat_minor": 0,
  "metadata": {
    "colab": {
      "provenance": [],
      "toc_visible": true,
      "authorship_tag": "ABX9TyM+tjCWApLaJLjAKKXpNBDK",
      "include_colab_link": true
    },
    "kernelspec": {
      "name": "python3",
      "display_name": "Python 3"
    },
    "language_info": {
      "name": "python"
    }
  },
  "cells": [
    {
      "cell_type": "markdown",
      "metadata": {
        "id": "view-in-github",
        "colab_type": "text"
      },
      "source": [
        "<a href=\"https://colab.research.google.com/github/SanjaySArkasali/FastTrack-Learning/blob/main/FastTrack_Loops.ipynb\" target=\"_parent\"><img src=\"https://colab.research.google.com/assets/colab-badge.svg\" alt=\"Open In Colab\"/></a>"
      ]
    },
    {
      "cell_type": "markdown",
      "source": [
        "# *enumerate() Function to get index and item.(Without enumerate it will give error)*"
      ],
      "metadata": {
        "id": "PBnUJhDa0818"
      }
    },
    {
      "cell_type": "code",
      "source": [
        "names = [\"sara\",\"Mehara\", \"somu\", \"Mono\"]\n",
        "for index, name in enumerate(names):\n",
        "  print(f\"{index},{name}\")"
      ],
      "metadata": {
        "colab": {
          "base_uri": "https://localhost:8080/"
        },
        "id": "zIWjSQI-UNds",
        "outputId": "e8e39b3e-e5a1-4a32-c80f-95aa32e779ce"
      },
      "execution_count": 1,
      "outputs": [
        {
          "output_type": "stream",
          "name": "stdout",
          "text": [
            "0,sara\n",
            "1,Mehara\n",
            "2,somu\n",
            "3,Mono\n"
          ]
        }
      ]
    },
    {
      "cell_type": "markdown",
      "source": [
        "## *zip() Function to iterate through multiple lists*"
      ],
      "metadata": {
        "id": "v3JLDiE31htJ"
      }
    },
    {
      "cell_type": "code",
      "source": [
        "fruits = [\"apple\", \"orange\", \"green apple\"]\n",
        "random_num = [1, 2, 3]\n",
        "\n",
        "for fruit, random in zip(fruits,random_num):\n",
        "  print(f\"randomnum:{random} fruits:{fruit}\")\n"
      ],
      "metadata": {
        "colab": {
          "base_uri": "https://localhost:8080/"
        },
        "id": "tWFmsMjki2c2",
        "outputId": "ec4b818d-5368-4fac-c20f-2d0d9c9a2ca6"
      },
      "execution_count": 2,
      "outputs": [
        {
          "output_type": "stream",
          "name": "stdout",
          "text": [
            "randomnum:1 fruits:apple\n",
            "randomnum:2 fruits:orange\n",
            "randomnum:3 fruits:green apple\n"
          ]
        }
      ]
    },
    {
      "cell_type": "markdown",
      "source": [
        "## *for Loop with a Range and Step*"
      ],
      "metadata": {
        "id": "Z2xPuDKOjno0"
      }
    },
    {
      "cell_type": "code",
      "source": [
        "for i in range(0,10,2):\n",
        "  print(i)"
      ],
      "metadata": {
        "colab": {
          "base_uri": "https://localhost:8080/"
        },
        "id": "ZclTF-RbjlR2",
        "outputId": "c99c3113-92f0-49af-dc95-7549099f3d57"
      },
      "execution_count": 3,
      "outputs": [
        {
          "output_type": "stream",
          "name": "stdout",
          "text": [
            "0\n",
            "2\n",
            "4\n",
            "6\n",
            "8\n"
          ]
        }
      ]
    },
    {
      "cell_type": "markdown",
      "source": [
        "##*List* *Comprehension* *must use [ ]*"
      ],
      "metadata": {
        "id": "rPSECyYclqxS"
      }
    },
    {
      "cell_type": "code",
      "source": [
        "random_2 = [1,2,4,5,7,3,8]\n",
        "test_1 = [x**2 for x in range(0,11,2)]\n",
        "test_1"
      ],
      "metadata": {
        "colab": {
          "base_uri": "https://localhost:8080/"
        },
        "id": "4hExOYlplpGz",
        "outputId": "72f82abe-0a26-4cb7-d3e1-f8b9e82449a5"
      },
      "execution_count": 4,
      "outputs": [
        {
          "output_type": "execute_result",
          "data": {
            "text/plain": [
              "[0, 4, 16, 36, 64, 100]"
            ]
          },
          "metadata": {},
          "execution_count": 4
        }
      ]
    },
    {
      "cell_type": "markdown",
      "source": [
        "## *Sets*"
      ],
      "metadata": {
        "id": "2_s3WUyLicC9"
      }
    },
    {
      "cell_type": "code",
      "source": [
        "list_1 = [1,2,5,6]\n",
        "list_2 = [5,6,7,89]\n",
        "\n",
        "commonn_values = set(list_1).intersection(set(list_2))\n",
        "\n",
        "print(type(commonn_values))"
      ],
      "metadata": {
        "colab": {
          "base_uri": "https://localhost:8080/"
        },
        "id": "wK1e9JZ_i0vb",
        "outputId": "8727947d-2718-40b8-f5f2-4301aa7bda4d"
      },
      "execution_count": 5,
      "outputs": [
        {
          "output_type": "stream",
          "name": "stdout",
          "text": [
            "<class 'set'>\n"
          ]
        }
      ]
    },
    {
      "cell_type": "markdown",
      "source": [
        "Certainly! Here are short notes summarizing the complex dictionary topics covered:\n",
        "\n",
        "1. **Nested Dictionaries:**\n",
        "   - Nested dictionaries allow you to create hierarchical data structures.\n",
        "   - They are useful for representing complex relationships in data.\n",
        "   - Access nested data by chaining keys, e.g., `dictionary['key1']['key2']`.\n",
        "\n",
        "2. **Dictionary Comprehensions:**\n",
        "   - Dictionary comprehensions are concise ways to create dictionaries from iterables.\n",
        "   - They use a compact syntax that includes key-value pairs based on specified conditions.\n",
        "   - Useful for filtering or transforming data when creating dictionaries.\n",
        "\n",
        "3. **Merging Dictionaries:**\n",
        "   - Merge dictionaries to combine data from multiple sources.\n",
        "   - Python 3.9 introduced the `|` operator for merging dictionaries.\n",
        "   - In older Python versions, use the `update()` method to combine dictionaries.\n",
        "\n",
        "4. **Working with Dictionary Keys:**\n",
        "   - Check if a key exists in a dictionary using `in` or `get()` method with a default value.\n",
        "   - Avoid KeyError by verifying key existence before accessing its value.\n",
        "\n",
        "5. **Default Dictionaries (collections.defaultdict):**\n",
        "   - A `defaultdict` provides default values for missing keys.\n",
        "   - Useful for counting occurrences, managing configurations, and handling missing keys gracefully.\n",
        "\n",
        "6. **Dictionaries with Variable Keys:**\n",
        "   - Dictionaries can use variables as keys, providing flexibility in data access.\n",
        "   - This is handy for scenarios where keys are determined by variables, such as menus or dynamic configurations.\n",
        "\n",
        "Understanding these advanced dictionary topics enhances your ability to work with complex data structures, efficiently manipulate data, and manage real-world scenarios involving dictionaries in Python."
      ],
      "metadata": {
        "id": "3BxmDybNrn9W"
      }
    },
    {
      "cell_type": "markdown",
      "source": [
        "# **Dictionary Operation**"
      ],
      "metadata": {
        "id": "OOYoUiNVyGGQ"
      }
    },
    {
      "cell_type": "code",
      "source": [
        "my_dict = {'name':'sanjay', 'age':25, 'word':'hello'}\n",
        "\n",
        "for key, element in my_dict.items():\n",
        "  print(key, element)"
      ],
      "metadata": {
        "colab": {
          "base_uri": "https://localhost:8080/"
        },
        "id": "RX4b9m_oidGy",
        "outputId": "470d3aaf-d958-4830-8bba-1425a906ed90"
      },
      "execution_count": 6,
      "outputs": [
        {
          "output_type": "stream",
          "name": "stdout",
          "text": [
            "name sanjay\n",
            "age 25\n",
            "word hello\n"
          ]
        }
      ]
    },
    {
      "cell_type": "code",
      "source": [
        "data_dict = {\n",
        "    'Bob':{\n",
        "        'cost':2000,\n",
        "        'Ethnicity':'Indian'\n",
        "    },\n",
        "    'Marley':{\n",
        "        'cost':2001,\n",
        "        'Ethnicity':'Indian'\n",
        "    }\n",
        "}"
      ],
      "metadata": {
        "id": "1Kso_I5OLMiN"
      },
      "execution_count": 7,
      "outputs": []
    },
    {
      "cell_type": "code",
      "source": [
        "for name, data in data_dict.items():\n",
        "  print(data)"
      ],
      "metadata": {
        "colab": {
          "base_uri": "https://localhost:8080/"
        },
        "id": "6UG5quKnL_YA",
        "outputId": "2e8bb5ff-002c-4d79-fee5-bfdc3f478cc8"
      },
      "execution_count": 8,
      "outputs": [
        {
          "output_type": "stream",
          "name": "stdout",
          "text": [
            "{'cost': 2000, 'Ethnicity': 'Indian'}\n",
            "{'cost': 2001, 'Ethnicity': 'Indian'}\n"
          ]
        }
      ]
    },
    {
      "cell_type": "markdown",
      "source": [
        "## *Dictionary Comprehension*"
      ],
      "metadata": {
        "id": "O7qWnm-ex3za"
      }
    },
    {
      "cell_type": "code",
      "source": [
        "indian  = { name for name , data in data_dict.items() if (data['Ethnicity'] == 'Indian') }\n",
        "indian"
      ],
      "metadata": {
        "colab": {
          "base_uri": "https://localhost:8080/"
        },
        "id": "HqqAzU94MQdE",
        "outputId": "ab3b87e0-a90f-4b93-f018-b913728d6b00"
      },
      "execution_count": 9,
      "outputs": [
        {
          "output_type": "execute_result",
          "data": {
            "text/plain": [
              "{'Bob', 'Marley'}"
            ]
          },
          "metadata": {},
          "execution_count": 9
        }
      ]
    },
    {
      "cell_type": "code",
      "source": [
        "indian_sum = sum(data['cost'] for name , data in data_dict.items() if (data['Ethnicity'] == 'Indian'))\n",
        "indian_sum"
      ],
      "metadata": {
        "colab": {
          "base_uri": "https://localhost:8080/"
        },
        "id": "TK4Ip_AVN2Yw",
        "outputId": "1885b9cb-7807-4c2a-b1e5-384ecf230c40"
      },
      "execution_count": 10,
      "outputs": [
        {
          "output_type": "execute_result",
          "data": {
            "text/plain": [
              "4001"
            ]
          },
          "metadata": {},
          "execution_count": 10
        }
      ]
    },
    {
      "cell_type": "markdown",
      "source": [
        "## *Aggregating Sales by region*"
      ],
      "metadata": {
        "id": "1peMgYGexM5u"
      }
    },
    {
      "cell_type": "code",
      "source": [
        "cost_by_name = {}\n",
        "for name , data in data_dict.items():\n",
        "  Ethnicity = data['Ethnicity']\n",
        "  cost_by_name[Ethnicity] = cost_by_name.get(Ethnicity,0)+data['cost']\n",
        "cost_by_name"
      ],
      "metadata": {
        "colab": {
          "base_uri": "https://localhost:8080/"
        },
        "id": "84q6XQCqS_9t",
        "outputId": "92ff2091-60a7-4aa4-d3b0-caf46c6bbabc"
      },
      "execution_count": 11,
      "outputs": [
        {
          "output_type": "execute_result",
          "data": {
            "text/plain": [
              "{'Indian': 4001}"
            ]
          },
          "metadata": {},
          "execution_count": 11
        }
      ]
    },
    {
      "cell_type": "code",
      "source": [
        "sample_dict = {\n",
        "    'shop_1':{\n",
        "        'region':'banglore',\n",
        "        'sales':50000\n",
        "    },\n",
        "    'shop_2':{\n",
        "        'region':'hubli',\n",
        "        'sales':30000\n",
        "    },\n",
        "    'shop_3':{\n",
        "        'region':'Dharwad',\n",
        "        'sales':220000\n",
        "    },\n",
        "        'shop_4':{\n",
        "        'region':'banglore',\n",
        "        'sales':45000\n",
        "    }\n",
        "}"
      ],
      "metadata": {
        "id": "Tv-Ffmg7XIhD"
      },
      "execution_count": 12,
      "outputs": []
    },
    {
      "cell_type": "code",
      "source": [
        "sales_by_region = {}\n",
        "\n",
        "for shop, data in sample_dict.items():\n",
        "  region = data['region']\n",
        "  sales_by_region[region] = sales_by_region.get(region,0) + data['sales']\n",
        "\n",
        "sales_by_region"
      ],
      "metadata": {
        "colab": {
          "base_uri": "https://localhost:8080/"
        },
        "id": "ofdZ-Dt9YSvX",
        "outputId": "7b9df0e4-059a-451e-f0f3-c1b9c0c87b23"
      },
      "execution_count": 13,
      "outputs": [
        {
          "output_type": "execute_result",
          "data": {
            "text/plain": [
              "{'banglore': 95000, 'hubli': 30000, 'Dharwad': 220000}"
            ]
          },
          "metadata": {},
          "execution_count": 13
        }
      ]
    },
    {
      "cell_type": "markdown",
      "source": [
        "## *Using defaultdict to count the words in the string*"
      ],
      "metadata": {
        "id": "Us8RTorLtVZx"
      }
    },
    {
      "cell_type": "code",
      "source": [
        "from collections import defaultdict\n",
        "\n",
        "sample_string = \"this is a string to count each words present, a is the hello present is sunday tmr is monday yee \"\n",
        "\n",
        "samle_word_count = defaultdict(int)\n",
        "\n",
        "for word in sample_string.split():\n",
        "  samle_word_count[word] += 1\n",
        "\n",
        "print(samle_word_count)\n"
      ],
      "metadata": {
        "colab": {
          "base_uri": "https://localhost:8080/"
        },
        "id": "_iHiYCCTb85x",
        "outputId": "9d120f24-d492-4101-ae82-8c5f1eb3b692"
      },
      "execution_count": 14,
      "outputs": [
        {
          "output_type": "stream",
          "name": "stdout",
          "text": [
            "defaultdict(<class 'int'>, {'this': 1, 'is': 4, 'a': 2, 'string': 1, 'to': 1, 'count': 1, 'each': 1, 'words': 1, 'present,': 1, 'the': 1, 'hello': 1, 'present': 1, 'sunday': 1, 'tmr': 1, 'monday': 1, 'yee': 1})\n"
          ]
        }
      ]
    },
    {
      "cell_type": "markdown",
      "source": [
        "## *Searching by key*"
      ],
      "metadata": {
        "id": "HcHnpkeEtJNy"
      }
    },
    {
      "cell_type": "code",
      "source": [
        "search_var = 'shop_2'\n",
        "\n",
        "if search_var in sample_dict:\n",
        "  sales  = sample_dict[search_var]['sales']\n",
        "  print(sales)\n",
        "else:\n",
        "  print('not found')"
      ],
      "metadata": {
        "colab": {
          "base_uri": "https://localhost:8080/"
        },
        "id": "B37qZaved3jD",
        "outputId": "2c47f731-db7d-4bab-c042-6c131fd23e55"
      },
      "execution_count": 15,
      "outputs": [
        {
          "output_type": "stream",
          "name": "stdout",
          "text": [
            "30000\n"
          ]
        }
      ]
    },
    {
      "cell_type": "markdown",
      "source": [
        "## *Merging Dictoniries*"
      ],
      "metadata": {
        "id": "rKhZzuHks7sO"
      }
    },
    {
      "cell_type": "code",
      "source": [
        "sample_dict_1 = {\n",
        "    'shop_1':{\n",
        "        'region':'banglore',\n",
        "        'sales':50000\n",
        "    },\n",
        "    'shop_2':{\n",
        "        'region':'hubli',\n",
        "        'sales':30000\n",
        "    },\n",
        "    'shop_3':{\n",
        "        'region':'Dharwad',\n",
        "        'sales':220000\n",
        "    },\n",
        "    'shop_4':{\n",
        "        'region':'banglore',\n",
        "        'sales':45000\n",
        "    }\n",
        "}\n",
        "\n",
        "sample_dict_2 = {\n",
        "    'shop_2':{\n",
        "        'region':'hubli',\n",
        "        'sales':30000\n",
        "    },\n",
        "    'shop_3':{\n",
        "        'region':'Dharwad',\n",
        "        'sales':20000\n",
        "    },\n",
        "    'shop_5':{\n",
        "        'region':'banglore',\n",
        "        'sales':45000\n",
        "    }\n",
        "      }\n",
        "\n",
        "\n",
        "sample_dict_1.update(sample_dict_2) # will combine and overwrite dubliates\n",
        "sample_dict_1"
      ],
      "metadata": {
        "colab": {
          "base_uri": "https://localhost:8080/"
        },
        "id": "EGsuTaaLg_P3",
        "outputId": "fded2eb9-6a38-45ab-e317-c3ec976bfd8b"
      },
      "execution_count": 16,
      "outputs": [
        {
          "output_type": "execute_result",
          "data": {
            "text/plain": [
              "{'shop_1': {'region': 'banglore', 'sales': 50000},\n",
              " 'shop_2': {'region': 'hubli', 'sales': 30000},\n",
              " 'shop_3': {'region': 'Dharwad', 'sales': 20000},\n",
              " 'shop_4': {'region': 'banglore', 'sales': 45000},\n",
              " 'shop_5': {'region': 'banglore', 'sales': 45000}}"
            ]
          },
          "metadata": {},
          "execution_count": 16
        }
      ]
    },
    {
      "cell_type": "code",
      "source": [
        "from collections import ChainMap\n",
        "\n",
        "merged_dict = dict(ChainMap(sample_dict_1,sample_dict_2))\n",
        "merged_dict"
      ],
      "metadata": {
        "colab": {
          "base_uri": "https://localhost:8080/"
        },
        "id": "nt1SI_tpsGce",
        "outputId": "72329162-8789-4811-a149-cfc71c2915f8"
      },
      "execution_count": 17,
      "outputs": [
        {
          "output_type": "execute_result",
          "data": {
            "text/plain": [
              "{'shop_2': {'region': 'hubli', 'sales': 30000},\n",
              " 'shop_3': {'region': 'Dharwad', 'sales': 20000},\n",
              " 'shop_5': {'region': 'banglore', 'sales': 45000},\n",
              " 'shop_1': {'region': 'banglore', 'sales': 50000},\n",
              " 'shop_4': {'region': 'banglore', 'sales': 45000}}"
            ]
          },
          "metadata": {},
          "execution_count": 17
        }
      ]
    },
    {
      "cell_type": "markdown",
      "source": [
        "# **List Operations (deep dive)**"
      ],
      "metadata": {
        "id": "4JhAMa3zy1wc"
      }
    },
    {
      "cell_type": "markdown",
      "source": [
        "## *Filter()* to filter data based on a condition creates new list combined with lambda function"
      ],
      "metadata": {
        "id": "EnvDHs3YE0jw"
      }
    },
    {
      "cell_type": "code",
      "source": [
        "sample_numbers = [1, 2, 3, 4, 5, 6, 7, 8, 9, 10]\n",
        "\n",
        "even_filtered_numbers  = list(filter(lambda x : x%2==0, sample_numbers))\n",
        "print(even_filtered_numbers)"
      ],
      "metadata": {
        "id": "nUucG1Ojy5bc",
        "outputId": "dbf2f4bc-1349-4c64-c660-7cabe2398145",
        "colab": {
          "base_uri": "https://localhost:8080/"
        }
      },
      "execution_count": 18,
      "outputs": [
        {
          "output_type": "stream",
          "name": "stdout",
          "text": [
            "[2, 4, 6, 8, 10]\n"
          ]
        }
      ]
    },
    {
      "cell_type": "markdown",
      "source": [
        "## *map() function applies function to the list* also map() and filter()"
      ],
      "metadata": {
        "id": "pHzKlaH-FsqF"
      }
    },
    {
      "cell_type": "code",
      "source": [
        "#applying a squaring to a list\n",
        "\n",
        "squared_numbers = list(map(lambda x:x**2, sample_numbers))\n",
        "print(squared_numbers)\n",
        "\n",
        "#applying function base based on condition that is using map() and filter()\n",
        "\n",
        "even_square_numbers = list(map(lambda x:x**2,filter(lambda x:x%2==0, sample_numbers)))\n",
        "print(even_square_numbers)\n",
        "\n",
        "#doing the same using list comprehension\n",
        "even_square_numbers = list( x**2 for x in sample_numbers if x%2==0  )\n",
        "print(even_square_numbers)"
      ],
      "metadata": {
        "id": "5RsJeChQGFNS",
        "outputId": "b125d922-f481-4015-ccbd-d9269441cbc2",
        "colab": {
          "base_uri": "https://localhost:8080/"
        }
      },
      "execution_count": 23,
      "outputs": [
        {
          "output_type": "stream",
          "name": "stdout",
          "text": [
            "[1, 4, 9, 16, 25, 36, 49, 64, 81, 100]\n",
            "[4, 16, 36, 64, 100]\n",
            "[4, 16, 36, 64, 100]\n"
          ]
        }
      ]
    },
    {
      "cell_type": "markdown",
      "source": [
        "## *slicing list using index*"
      ],
      "metadata": {
        "id": "JQLynSmrP6Ml"
      }
    },
    {
      "cell_type": "code",
      "source": [
        "slice_numbers = [1, 2, 3, 4, 5, 6, 7, 8, 9, 10]\n",
        "subset = slice_numbers[1:5] #inital index is included and the ending index is excluded\n",
        "print(subset)\n",
        "print(f\"total  : {sum(slice_numbers)}\")\n",
        "print(f\"minimum: {min(slice_numbers)}\")\n",
        "print(f\"maximum: {max(slice_numbers)}\")"
      ],
      "metadata": {
        "id": "3KXJOtEHMiMv",
        "outputId": "bcbba563-3d55-40b1-c18d-2e770b4dea8b",
        "colab": {
          "base_uri": "https://localhost:8080/"
        }
      },
      "execution_count": 30,
      "outputs": [
        {
          "output_type": "stream",
          "name": "stdout",
          "text": [
            "[2, 3, 4, 5]\n",
            "total  : 55\n",
            "minimum: 1\n",
            "maximum: 10\n"
          ]
        }
      ]
    },
    {
      "cell_type": "markdown",
      "source": [
        "## *Unique Values using set()*"
      ],
      "metadata": {
        "id": "MTmtwuF5R9ui"
      }
    },
    {
      "cell_type": "code",
      "source": [
        "slice_numbers = [1, 2, 3, 6,3,5,6,7,3,4, 5, 6, 7, 8, 9, 10]\n",
        "\n",
        "\n",
        "unique_numbers = list(set(slice_numbers))\n",
        "print(\"all          :\",slice_numbers)\n",
        "print(\"Unique values:\",unique_numbers)"
      ],
      "metadata": {
        "id": "JNA31bRkSA5v",
        "outputId": "b2920795-b1da-4d5f-ae3d-9eb012aa1d75",
        "colab": {
          "base_uri": "https://localhost:8080/"
        }
      },
      "execution_count": 34,
      "outputs": [
        {
          "output_type": "stream",
          "name": "stdout",
          "text": [
            "all          : [1, 2, 3, 6, 3, 5, 6, 7, 3, 4, 5, 6, 7, 8, 9, 10]\n",
            "Unique values: [1, 2, 3, 4, 5, 6, 7, 8, 9, 10]\n"
          ]
        }
      ]
    }
  ]
}