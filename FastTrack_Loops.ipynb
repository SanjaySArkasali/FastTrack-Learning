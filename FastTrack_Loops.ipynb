{
  "nbformat": 4,
  "nbformat_minor": 0,
  "metadata": {
    "colab": {
      "provenance": [],
      "toc_visible": true,
      "authorship_tag": "ABX9TyO8D37R0CCyqY6IqPcHIZZL",
      "include_colab_link": true
    },
    "kernelspec": {
      "name": "python3",
      "display_name": "Python 3"
    },
    "language_info": {
      "name": "python"
    }
  },
  "cells": [
    {
      "cell_type": "markdown",
      "metadata": {
        "id": "view-in-github",
        "colab_type": "text"
      },
      "source": [
        "<a href=\"https://colab.research.google.com/github/SanjaySArkasali/FastTrack-Learning/blob/main/FastTrack_Loops.ipynb\" target=\"_parent\"><img src=\"https://colab.research.google.com/assets/colab-badge.svg\" alt=\"Open In Colab\"/></a>"
      ]
    },
    {
      "cell_type": "markdown",
      "source": [
        "# *enumerate() Function to get index and item.(Without enumerate it will give error)*"
      ],
      "metadata": {
        "id": "PBnUJhDa0818"
      }
    },
    {
      "cell_type": "code",
      "source": [
        "names = [\"sara\",\"Mehara\", \"somu\", \"Mono\"]\n",
        "for index, name in enumerate(names):\n",
        "  print(f\"{index},{name}\")"
      ],
      "metadata": {
        "colab": {
          "base_uri": "https://localhost:8080/"
        },
        "id": "zIWjSQI-UNds",
        "outputId": "571d7642-5b74-4ee0-cde8-fc6244e97fc6"
      },
      "execution_count": null,
      "outputs": [
        {
          "output_type": "stream",
          "name": "stdout",
          "text": [
            "0,sara\n",
            "1,Mehara\n",
            "2,somu\n",
            "3,Mono\n"
          ]
        }
      ]
    },
    {
      "cell_type": "markdown",
      "source": [
        "## *zip() Function to iterate through multiple lists*"
      ],
      "metadata": {
        "id": "v3JLDiE31htJ"
      }
    },
    {
      "cell_type": "code",
      "source": [
        "fruits = [\"apple\", \"orange\", \"green apple\"]\n",
        "random_num = [1, 2, 3]\n",
        "\n",
        "for fruit, random in zip(fruits,random_num):\n",
        "  print(f\"randomnum:{random} fruits:{fruit}\")\n"
      ],
      "metadata": {
        "colab": {
          "base_uri": "https://localhost:8080/"
        },
        "id": "tWFmsMjki2c2",
        "outputId": "95d3aae8-963c-4338-99f8-c5376a4cd4d8"
      },
      "execution_count": null,
      "outputs": [
        {
          "output_type": "stream",
          "name": "stdout",
          "text": [
            "randomnum:1 fruits:apple\n",
            "randomnum:2 fruits:orange\n",
            "randomnum:3 fruits:green apple\n"
          ]
        }
      ]
    },
    {
      "cell_type": "markdown",
      "source": [
        "## *for Loop with a Range and Step*"
      ],
      "metadata": {
        "id": "Z2xPuDKOjno0"
      }
    },
    {
      "cell_type": "code",
      "source": [
        "for i in range(0,10,2):\n",
        "  print(i)"
      ],
      "metadata": {
        "colab": {
          "base_uri": "https://localhost:8080/"
        },
        "id": "ZclTF-RbjlR2",
        "outputId": "a6b6768e-2d73-44da-8416-b1c79f969df0"
      },
      "execution_count": null,
      "outputs": [
        {
          "output_type": "stream",
          "name": "stdout",
          "text": [
            "0\n",
            "2\n",
            "4\n",
            "6\n",
            "8\n"
          ]
        }
      ]
    },
    {
      "cell_type": "markdown",
      "source": [
        "##*List* *Comprehension* *must use [ ]*"
      ],
      "metadata": {
        "id": "rPSECyYclqxS"
      }
    },
    {
      "cell_type": "code",
      "source": [
        "random_2 = [1,2,4,5,7,3,8]\n",
        "test_1 = [x**2 for x in range(0,11,2)]\n",
        "test_1"
      ],
      "metadata": {
        "colab": {
          "base_uri": "https://localhost:8080/"
        },
        "id": "4hExOYlplpGz",
        "outputId": "a2fd9f55-b0cc-46f7-9d55-25ef93b39ba6"
      },
      "execution_count": null,
      "outputs": [
        {
          "output_type": "execute_result",
          "data": {
            "text/plain": [
              "[0, 4, 16, 36, 64, 100]"
            ]
          },
          "metadata": {},
          "execution_count": 17
        }
      ]
    },
    {
      "cell_type": "markdown",
      "source": [
        "## *Sets*"
      ],
      "metadata": {
        "id": "2_s3WUyLicC9"
      }
    },
    {
      "cell_type": "code",
      "source": [
        "list_1 = [1,2,5,6]\n",
        "list_2 = [5,6,7,89]\n",
        "\n",
        "commonn_values = set(list_1).intersection(set(list_2))\n",
        "\n",
        "print(type(commonn_values))"
      ],
      "metadata": {
        "colab": {
          "base_uri": "https://localhost:8080/"
        },
        "id": "wK1e9JZ_i0vb",
        "outputId": "e9f01343-a422-44be-8fad-7395085075da"
      },
      "execution_count": null,
      "outputs": [
        {
          "output_type": "stream",
          "name": "stdout",
          "text": [
            "<class 'set'>\n"
          ]
        }
      ]
    },
    {
      "cell_type": "markdown",
      "source": [
        "Certainly! Here are short notes summarizing the complex dictionary topics covered:\n",
        "\n",
        "1. **Nested Dictionaries:**\n",
        "   - Nested dictionaries allow you to create hierarchical data structures.\n",
        "   - They are useful for representing complex relationships in data.\n",
        "   - Access nested data by chaining keys, e.g., `dictionary['key1']['key2']`.\n",
        "\n",
        "2. **Dictionary Comprehensions:**\n",
        "   - Dictionary comprehensions are concise ways to create dictionaries from iterables.\n",
        "   - They use a compact syntax that includes key-value pairs based on specified conditions.\n",
        "   - Useful for filtering or transforming data when creating dictionaries.\n",
        "\n",
        "3. **Merging Dictionaries:**\n",
        "   - Merge dictionaries to combine data from multiple sources.\n",
        "   - Python 3.9 introduced the `|` operator for merging dictionaries.\n",
        "   - In older Python versions, use the `update()` method to combine dictionaries.\n",
        "\n",
        "4. **Working with Dictionary Keys:**\n",
        "   - Check if a key exists in a dictionary using `in` or `get()` method with a default value.\n",
        "   - Avoid KeyError by verifying key existence before accessing its value.\n",
        "\n",
        "5. **Default Dictionaries (collections.defaultdict):**\n",
        "   - A `defaultdict` provides default values for missing keys.\n",
        "   - Useful for counting occurrences, managing configurations, and handling missing keys gracefully.\n",
        "\n",
        "6. **Dictionaries with Variable Keys:**\n",
        "   - Dictionaries can use variables as keys, providing flexibility in data access.\n",
        "   - This is handy for scenarios where keys are determined by variables, such as menus or dynamic configurations.\n",
        "\n",
        "Understanding these advanced dictionary topics enhances your ability to work with complex data structures, efficiently manipulate data, and manage real-world scenarios involving dictionaries in Python."
      ],
      "metadata": {
        "id": "3BxmDybNrn9W"
      }
    },
    {
      "cell_type": "markdown",
      "source": [
        "# **Dictionary Operation**"
      ],
      "metadata": {
        "id": "OOYoUiNVyGGQ"
      }
    },
    {
      "cell_type": "code",
      "source": [
        "my_dict = {'name':'sanjay', 'age':25, 'word':'hello'}\n",
        "\n",
        "for key, element in my_dict.items():\n",
        "  print(key, element)"
      ],
      "metadata": {
        "colab": {
          "base_uri": "https://localhost:8080/"
        },
        "id": "RX4b9m_oidGy",
        "outputId": "2a09c6c7-76d8-44cd-e71f-05173eca721d"
      },
      "execution_count": null,
      "outputs": [
        {
          "output_type": "stream",
          "name": "stdout",
          "text": [
            "name sanjay\n",
            "age 25\n",
            "word hello\n"
          ]
        }
      ]
    },
    {
      "cell_type": "code",
      "source": [
        "data_dict = {\n",
        "    'Bob':{\n",
        "        'cost':2000,\n",
        "        'Ethnicity':'Indian'\n",
        "    },\n",
        "    'Marley':{\n",
        "        'cost':2001,\n",
        "        'Ethnicity':'Indian'\n",
        "    }\n",
        "}"
      ],
      "metadata": {
        "id": "1Kso_I5OLMiN"
      },
      "execution_count": 31,
      "outputs": []
    },
    {
      "cell_type": "code",
      "source": [
        "for name, data in data_dict.items():\n",
        "  print(data)"
      ],
      "metadata": {
        "colab": {
          "base_uri": "https://localhost:8080/"
        },
        "id": "6UG5quKnL_YA",
        "outputId": "6c2e9425-2889-48dc-81a0-2d6f72e06e38"
      },
      "execution_count": 6,
      "outputs": [
        {
          "output_type": "stream",
          "name": "stdout",
          "text": [
            "{'cost': 2000, 'Ethnicity': 'Indian'}\n",
            "{'cost': 2001, 'Ethnicity': 'Indian'}\n"
          ]
        }
      ]
    },
    {
      "cell_type": "markdown",
      "source": [
        "## *Dictionary Comprehension*"
      ],
      "metadata": {
        "id": "O7qWnm-ex3za"
      }
    },
    {
      "cell_type": "code",
      "source": [
        "indian  = { name for name , data in data_dict.items() if (data['Ethnicity'] == 'Indian') }\n",
        "indian"
      ],
      "metadata": {
        "colab": {
          "base_uri": "https://localhost:8080/"
        },
        "id": "HqqAzU94MQdE",
        "outputId": "5660e07a-43f5-4c8b-8756-65ef3aa6cd1c"
      },
      "execution_count": 32,
      "outputs": [
        {
          "output_type": "execute_result",
          "data": {
            "text/plain": [
              "{'Bob', 'Marley'}"
            ]
          },
          "metadata": {},
          "execution_count": 32
        }
      ]
    },
    {
      "cell_type": "code",
      "source": [
        "indian_sum = sum(data['cost'] for name , data in data_dict.items() if (data['Ethnicity'] == 'Indian'))\n",
        "indian_sum"
      ],
      "metadata": {
        "colab": {
          "base_uri": "https://localhost:8080/"
        },
        "id": "TK4Ip_AVN2Yw",
        "outputId": "48dc6194-4bb8-4923-9aaa-641e3b2e2494"
      },
      "execution_count": 14,
      "outputs": [
        {
          "output_type": "execute_result",
          "data": {
            "text/plain": [
              "4001"
            ]
          },
          "metadata": {},
          "execution_count": 14
        }
      ]
    },
    {
      "cell_type": "markdown",
      "source": [
        "## *Aggregating Sales by region*"
      ],
      "metadata": {
        "id": "1peMgYGexM5u"
      }
    },
    {
      "cell_type": "code",
      "source": [
        "cost_by_name = {}\n",
        "for name , data in data_dict.items():\n",
        "  Ethnicity = data['Ethnicity']\n",
        "  cost_by_name[Ethnicity] = cost_by_name.get(Ethnicity,0)+data['cost']\n",
        "cost_by_name"
      ],
      "metadata": {
        "colab": {
          "base_uri": "https://localhost:8080/"
        },
        "id": "84q6XQCqS_9t",
        "outputId": "8bd610fc-b313-4ba5-a7d2-18a97ac8264a"
      },
      "execution_count": 18,
      "outputs": [
        {
          "output_type": "execute_result",
          "data": {
            "text/plain": [
              "{'Indian': 4001}"
            ]
          },
          "metadata": {},
          "execution_count": 18
        }
      ]
    },
    {
      "cell_type": "code",
      "source": [
        "sample_dict = {\n",
        "    'shop_1':{\n",
        "        'region':'banglore',\n",
        "        'sales':50000\n",
        "    },\n",
        "    'shop_2':{\n",
        "        'region':'hubli',\n",
        "        'sales':30000\n",
        "    },\n",
        "    'shop_3':{\n",
        "        'region':'Dharwad',\n",
        "        'sales':220000\n",
        "    },\n",
        "        'shop_4':{\n",
        "        'region':'banglore',\n",
        "        'sales':45000\n",
        "    }\n",
        "}"
      ],
      "metadata": {
        "id": "Tv-Ffmg7XIhD"
      },
      "execution_count": 19,
      "outputs": []
    },
    {
      "cell_type": "code",
      "source": [
        "sales_by_region = {}\n",
        "\n",
        "for shop, data in sample_dict.items():\n",
        "  region = data['region']\n",
        "  sales_by_region[region] = sales_by_region.get(region,0) + data['sales']\n",
        "\n",
        "sales_by_region"
      ],
      "metadata": {
        "colab": {
          "base_uri": "https://localhost:8080/"
        },
        "id": "ofdZ-Dt9YSvX",
        "outputId": "b69f9f21-0433-4c62-a13a-751145f4d5dc"
      },
      "execution_count": 22,
      "outputs": [
        {
          "output_type": "execute_result",
          "data": {
            "text/plain": [
              "{'banglore': 95000, 'hubli': 30000, 'Dharwad': 220000}"
            ]
          },
          "metadata": {},
          "execution_count": 22
        }
      ]
    },
    {
      "cell_type": "markdown",
      "source": [
        "## *Using defaultdict to count the words in the string*"
      ],
      "metadata": {
        "id": "Us8RTorLtVZx"
      }
    },
    {
      "cell_type": "code",
      "source": [
        "from collections import defaultdict\n",
        "\n",
        "sample_string = \"this is a string to count each words present, a is the hello present is sunday tmr is monday yee \"\n",
        "\n",
        "samle_word_count = defaultdict(int)\n",
        "\n",
        "for word in sample_string.split():\n",
        "  samle_word_count[word] += 1\n",
        "\n",
        "print(samle_word_count)\n"
      ],
      "metadata": {
        "colab": {
          "base_uri": "https://localhost:8080/"
        },
        "id": "_iHiYCCTb85x",
        "outputId": "697f645d-09cd-45ba-865d-fe89f87b4f9d"
      },
      "execution_count": 25,
      "outputs": [
        {
          "output_type": "stream",
          "name": "stdout",
          "text": [
            "defaultdict(<class 'int'>, {'this': 1, 'is': 4, 'a': 2, 'string': 1, 'to': 1, 'count': 1, 'each': 1, 'words': 1, 'present,': 1, 'the': 1, 'hello': 1, 'present': 1, 'sunday': 1, 'tmr': 1, 'monday': 1, 'yee': 1})\n"
          ]
        }
      ]
    },
    {
      "cell_type": "markdown",
      "source": [
        "## *Searching by key*"
      ],
      "metadata": {
        "id": "HcHnpkeEtJNy"
      }
    },
    {
      "cell_type": "code",
      "source": [
        "search_var = 'shop_2'\n",
        "\n",
        "if search_var in sample_dict:\n",
        "  sales  = sample_dict[search_var]['sales']\n",
        "  print(sales)\n",
        "else:\n",
        "  print('not found')"
      ],
      "metadata": {
        "colab": {
          "base_uri": "https://localhost:8080/"
        },
        "id": "B37qZaved3jD",
        "outputId": "7908035d-1be4-4987-bf5c-1bd720b8d041"
      },
      "execution_count": 27,
      "outputs": [
        {
          "output_type": "stream",
          "name": "stdout",
          "text": [
            "30000\n"
          ]
        }
      ]
    },
    {
      "cell_type": "markdown",
      "source": [
        "## *Merging Dictoniries*"
      ],
      "metadata": {
        "id": "rKhZzuHks7sO"
      }
    },
    {
      "cell_type": "code",
      "source": [
        "sample_dict_1 = {\n",
        "    'shop_1':{\n",
        "        'region':'banglore',\n",
        "        'sales':50000\n",
        "    },\n",
        "    'shop_2':{\n",
        "        'region':'hubli',\n",
        "        'sales':30000\n",
        "    },\n",
        "    'shop_3':{\n",
        "        'region':'Dharwad',\n",
        "        'sales':220000\n",
        "    },\n",
        "    'shop_4':{\n",
        "        'region':'banglore',\n",
        "        'sales':45000\n",
        "    }\n",
        "}\n",
        "\n",
        "sample_dict_2 = {\n",
        "    'shop_2':{\n",
        "        'region':'hubli',\n",
        "        'sales':30000\n",
        "    },\n",
        "    'shop_3':{\n",
        "        'region':'Dharwad',\n",
        "        'sales':20000\n",
        "    },\n",
        "    'shop_5':{\n",
        "        'region':'banglore',\n",
        "        'sales':45000\n",
        "    }\n",
        "      }\n",
        "\n",
        "\n",
        "sample_dict_1.update(sample_dict_2) # will combine and overwrite dubliates\n",
        "sample_dict_1"
      ],
      "metadata": {
        "colab": {
          "base_uri": "https://localhost:8080/"
        },
        "id": "EGsuTaaLg_P3",
        "outputId": "a64281f1-610d-49f8-dff1-59583411cdb8"
      },
      "execution_count": 29,
      "outputs": [
        {
          "output_type": "execute_result",
          "data": {
            "text/plain": [
              "{'shop_1': {'region': 'banglore', 'sales': 50000},\n",
              " 'shop_2': {'region': 'hubli', 'sales': 30000},\n",
              " 'shop_3': {'region': 'Dharwad', 'sales': 20000},\n",
              " 'shop_4': {'region': 'banglore', 'sales': 45000},\n",
              " 'shop_5': {'region': 'banglore', 'sales': 45000}}"
            ]
          },
          "metadata": {},
          "execution_count": 29
        }
      ]
    },
    {
      "cell_type": "code",
      "source": [
        "from collections import ChainMap\n",
        "\n",
        "merged_dict = dict(ChainMap(sample_dict_1,sample_dict_2))\n",
        "merged_dict"
      ],
      "metadata": {
        "colab": {
          "base_uri": "https://localhost:8080/"
        },
        "id": "nt1SI_tpsGce",
        "outputId": "3462ad6f-c179-4370-efdf-4a43fc2585b9"
      },
      "execution_count": 30,
      "outputs": [
        {
          "output_type": "execute_result",
          "data": {
            "text/plain": [
              "{'shop_2': {'region': 'hubli', 'sales': 30000},\n",
              " 'shop_3': {'region': 'Dharwad', 'sales': 20000},\n",
              " 'shop_5': {'region': 'banglore', 'sales': 45000},\n",
              " 'shop_1': {'region': 'banglore', 'sales': 50000},\n",
              " 'shop_4': {'region': 'banglore', 'sales': 45000}}"
            ]
          },
          "metadata": {},
          "execution_count": 30
        }
      ]
    },
    {
      "cell_type": "markdown",
      "source": [
        "# **List Operations (deep dive)**"
      ],
      "metadata": {
        "id": "4JhAMa3zy1wc"
      }
    },
    {
      "cell_type": "code",
      "source": [],
      "metadata": {
        "id": "nUucG1Ojy5bc"
      },
      "execution_count": null,
      "outputs": []
    }
  ]
}